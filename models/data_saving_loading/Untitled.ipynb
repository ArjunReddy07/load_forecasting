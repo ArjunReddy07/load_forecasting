{
 "cells": [
  {
   "cell_type": "code",
   "execution_count": 1,
   "metadata": {
    "ExecuteTime": {
     "end_time": "2018-11-24T10:43:57.049011Z",
     "start_time": "2018-11-24T10:43:53.555881Z"
    }
   },
   "outputs": [
    {
     "name": "stderr",
     "output_type": "stream",
     "text": [
      "Using TensorFlow backend.\n"
     ]
    }
   ],
   "source": [
    "import pandas as pd\n",
    "import numpy as np\n",
    "import matplotlib.pyplot as plt\n",
    "\n",
    "import requests\n",
    "import csv\n",
    "from bs4 import BeautifulSoup\n",
    "from datetime import datetime, timedelta\n",
    "import statsmodels.api as sm\n",
    "from statsmodels.tsa import stattools\n",
    "from statsmodels.tsa.seasonal import seasonal_decompose\n",
    "from statsmodels.graphics.tsaplots import plot_acf, plot_pacf\n",
    "from statsmodels.tsa.stattools import acf, pacf\n",
    "import os\n",
    "from pandas import Series\n",
    "from pandas import concat\n",
    "from pandas import read_csv\n",
    "from pandas import datetime\n",
    "from sklearn.metrics import mean_squared_error\n",
    "from sklearn.preprocessing import MinMaxScaler\n",
    "from keras.models import Sequential\n",
    "from keras.layers import Dense\n",
    "from keras.layers import LSTM\n",
    "from math import sqrt\n",
    "from matplotlib import pyplot\n",
    "from numpy import array\n",
    "from sklearn.preprocessing import MinMaxScaler\n",
    "os.environ['CUDA_VISIBLE_DEVICES']=''\n",
    "%matplotlib inline\n",
    "plt.rcParams['figure.figsize'] = (15, 6)"
   ]
  },
  {
   "cell_type": "code",
   "execution_count": 2,
   "metadata": {
    "ExecuteTime": {
     "end_time": "2018-11-24T10:43:59.281019Z",
     "start_time": "2018-11-24T10:43:58.632644Z"
    }
   },
   "outputs": [
    {
     "name": "stdout",
     "output_type": "stream",
     "text": [
      "Scraping 23/11/2018 Done\n"
     ]
    }
   ],
   "source": [
    "\n",
    "def get_load_data(date):\n",
    "    load=[]\n",
    "    url = 'http://www.delhisldc.org/Loaddata.aspx?mode='\n",
    "    print('Scraping ' + date, end=' ')\n",
    "    resp = requests.get(url + date) # send a get request to the url, get response\n",
    "    soup = BeautifulSoup(resp.text, 'lxml') # Yummy HTML soup\n",
    "    table = soup.find('table', {'id':'ContentPlaceHolder3_DGGridAv'}) # get the table from html\n",
    "    trs = table.findAll('tr') # extract all rows of the table\n",
    "    if len(trs[1:])==288: # no need to create csv file, if there's no data\n",
    "        with open('monthdata.csv', 'a') as f:  #'a' makes sure the values are appended at the end of the already existing file\n",
    "            \n",
    "            for tr in trs[1:]:\n",
    "                time, delhi = tr.findChildren('font')[:2]\n",
    "                load.append(delhi.text)\n",
    "    if len(trs[1:]) != 288:\n",
    "        print('Some of the load values are missing..')\n",
    "    else:\n",
    "        print('Done')\n",
    "    return load\n",
    "\n",
    "yesterday = datetime.today() - timedelta(1)\n",
    "yesterday = yesterday.strftime('%d/%m/%Y')\n",
    "load = get_load_data(yesterday)"
   ]
  },
  {
   "cell_type": "code",
   "execution_count": 5,
   "metadata": {
    "ExecuteTime": {
     "end_time": "2018-11-24T10:44:48.951991Z",
     "start_time": "2018-11-24T10:44:48.945174Z"
    }
   },
   "outputs": [
    {
     "data": {
      "text/plain": [
       "'1859.780,1839.650,1828.550,1823.340,1843.380,1804.490,1778.510,1750.730,1762.850,1741.570,1711.560,1710.960,1704.360,1680.480,1667.750,1659.890,1648.450,1637.560,1636.270,1640.520,1632.520,1625.670,1634.480,1623.470,1608.930,1604.340,1598.990,1596.610,1599.610,1607.470,1594.770,1579.860,1577.040,1570.560,1574.220,1565.630,1558.380,1562.670,1567.290,1569.760,1567.780,1575.570,1569.170,1577.640,1599.640,1595.030,1586.370,1601.710,1602.850,1627.380,1637.820,1649.920,1661.290,1668.610,1677.580,1697.040,1710.160,1709.790,1735.320,1748.880,1773.310,1815.380,1814.850,1854.310,1886.670,1895.880,1919.920,1961.980,1979.560,2040.800,2033.430,2036.550,2094.630,2142.080,2171.590,2208.870,2185.720,2286.180,2298.860,2331.700,2362.740,2435.260,2456.560,2493.520,2534.420,2598.290,2666.480,2702.210,2745.800,2791.160,2829.880,2944.110,2974.030,2959.840,3080.560,2983.390,3049.170,3054.990,3049.150,3075.480,3064.770,3139.950,3149.090,3125.300,3161.940,3169.900,3154.670,3155.640,3174.450,3219.060,3205.930,3255.240,3328.930,3357.290,3358.980,3405.060,3435.090,3454.420,3464.870,3426.450,3437.150,3410.430,3391.780,3439.140,3532.040,3428.600,3410.050,3450.080,3493.680,3473.290,3456.220,3458.200,3459.530,3473.070,3475.440,3455.550,3436.640,3442.660,3441.220,3409.700,3390.980,3386.780,3350.050,3354.920,3334.680,3329.560,3298.880,3265.670,3270.290,3267.300,3269.050,3205.160,3198.660,3178.250,3149.270,3086.510,3031.400,2954.480,2902.600,2873.310,2806.650,2820.620,2782.910,2770.850,2787.190,2808.890,2817.070,2786.270,2761.700,2770.780,2762.410,2783.420,2777.460,2753.610,2750.140,2774.530,2757.750,2726.440,2722.990,2727.160,2729.930,2719.750,2692.460,2682.490,2702.920,2675.990,2671.280,2697.730,2678.630,2707.320,2670.620,2682.840,2667.340,2678.500,2699.140,2687.430,2677.190,2740.520,2719.170,2689.710,2687.590,2740.570,2774.190,2781.160,2791.780,2824.420,2840.260,2854.490,2920.120,2962.740,2954.660,3012.230,3040.900,3076.880,3131.070,3117.640,3138.190,3171.200,3150.040,3148.790,3158.290,3122.590,3152.930,3137.430,3135.260,3105.790,3091.110,3097.030,3089.900,3070.540,3073.810,3041.330,3016.910,3025.700,2989.370,2997.280,2931.700,2940.230,2969.180,2880.770,2929.620,2837.440,2828.650,2795.190,2821.410,2742.180,2704.250,2710.070,2673.170,2686.870,2655.600,2623.480,2564.160,2536.640,2532.950,2507.380,2496.730,2486.300,2469.830,2449.690,2447.210,2410.220,2405.000,2397.700,2368.740,2311.100,2304.030,2318.740,2281.930,2265.980,2254.590,2216.580,2185.750,2175.610,2168.920,2146.350,2106.070,2067.360,2069.270,2040.020,2030.030,1981.910,1981.020,1967.380,1947.870,1923.400,1889.520,1863.620'"
      ]
     },
     "execution_count": 5,
     "metadata": {},
     "output_type": "execute_result"
    }
   ],
   "source": [
    "\n",
    "','.join(load)"
   ]
  }
 ],
 "metadata": {
  "kernelspec": {
   "display_name": "TF",
   "language": "python",
   "name": "tf"
  },
  "language_info": {
   "codemirror_mode": {
    "name": "ipython",
    "version": 3
   },
   "file_extension": ".py",
   "mimetype": "text/x-python",
   "name": "python",
   "nbconvert_exporter": "python",
   "pygments_lexer": "ipython3",
   "version": "3.5.6"
  }
 },
 "nbformat": 4,
 "nbformat_minor": 2
}
