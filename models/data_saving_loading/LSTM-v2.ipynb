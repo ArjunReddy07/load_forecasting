{
 "cells": [
  {
   "cell_type": "code",
   "execution_count": 1,
   "metadata": {
    "ExecuteTime": {
     "end_time": "2018-11-26T18:30:36.513548Z",
     "start_time": "2018-11-26T18:30:33.313825Z"
    }
   },
   "outputs": [
    {
     "name": "stderr",
     "output_type": "stream",
     "text": [
      "Using TensorFlow backend.\n"
     ]
    }
   ],
   "source": [
    "import pandas as pd\n",
    "import numpy as np\n",
    "import matplotlib.pyplot as plt\n",
    "\n",
    "import requests\n",
    "import csv\n",
    "from bs4 import BeautifulSoup\n",
    "from datetime import datetime, timedelta\n",
    "import statsmodels.api as sm\n",
    "from statsmodels.tsa import stattools\n",
    "from statsmodels.tsa.seasonal import seasonal_decompose\n",
    "from statsmodels.graphics.tsaplots import plot_acf, plot_pacf\n",
    "from statsmodels.tsa.stattools import acf, pacf\n",
    "import os\n",
    "from pandas import Series\n",
    "from pandas import concat\n",
    "from pandas import read_csv\n",
    "from pandas import datetime\n",
    "from sklearn.metrics import mean_squared_error\n",
    "from sklearn.preprocessing import MinMaxScaler\n",
    "# import tensorflow as tf\n",
    "# config = tf.ConfigProto()\n",
    "# config.gpu_options.allow_growth = True\n",
    "# config.gpu_options.per_process_gpu_memory_fraction = 0.4\n",
    "# sess = tf.Session(config=config)\n",
    "\n",
    "from keras.models import Sequential\n",
    "from keras.layers import Dense\n",
    "from keras.callbacks import EarlyStopping\n",
    "from keras.layers import LSTM\n",
    "from math import sqrt\n",
    "from matplotlib import pyplot\n",
    "from numpy import array\n",
    "from sklearn.preprocessing import MinMaxScaler\n",
    "os.environ['CUDA_VISIBLE_DEVICES']=''\n",
    "%matplotlib inline\n",
    "plt.rcParams['figure.figsize'] = (15, 6)\n",
    "\n",
    "from numpy.random import seed\n",
    "seed(1)\n",
    "from tensorflow import set_random_seed\n",
    "set_random_seed(2)"
   ]
  },
  {
   "cell_type": "markdown",
   "metadata": {},
   "source": [
    "#### Note: to get more insight of data being used in LSTM/RNN/GRU training see `LSTM-eda.ipynb` file"
   ]
  },
  {
   "cell_type": "markdown",
   "metadata": {
    "ExecuteTime": {
     "end_time": "2018-11-26T18:30:36.653353Z",
     "start_time": "2018-11-26T18:30:36.540148Z"
    }
   },
   "source": [
    "### Load and prepare data in required format"
   ]
  },
  {
   "cell_type": "code",
   "execution_count": 14,
   "metadata": {
    "ExecuteTime": {
     "end_time": "2018-11-26T18:30:39.841229Z",
     "start_time": "2018-11-26T18:30:37.600028Z"
    }
   },
   "outputs": [],
   "source": [
    "data = pd.read_csv('lstm_data.csv', header=None, names=['datetime', 'load'], index_col=[0], parse_dates=[0], infer_datetime_format=True)\n",
    "df = pd.DataFrame(columns=['time'] + list(map(str, range(int(data.shape[0] / 288)))))\n",
    "for idx, time in enumerate(sorted(set(data.index.time))):\n",
    "    df.loc[idx] = [time.strftime(format='%H:%M:%S')] + list(data.at_time(time)['load'].values)\n",
    "df.index = df['time']\n",
    "df = df.drop('time', 1)\n",
    "dt_df = df.diff(1, axis=1)\n",
    "dt_df = dt_df.dropna(axis=1)\n",
    "scaler = MinMaxScaler(feature_range=(-1, 1))\n",
    "scaler = scaler.fit(dt_df.values.reshape(-1, 1))\n",
    "dt_df = scaler.transform(dt_df)  # dt_df is now a numpy array\n",
    "split_idx = int(len(dt_df) * 0.8)\n",
    "train, val = dt_df[:split_idx, :], dt_df[split_idx:, :]"
   ]
  },
  {
   "cell_type": "code",
   "execution_count": 26,
   "metadata": {
    "ExecuteTime": {
     "end_time": "2018-11-26T18:30:43.679353Z",
     "start_time": "2018-11-26T18:30:43.675667Z"
    }
   },
   "outputs": [],
   "source": [
    "def prepare_data(data, nlags):\n",
    "    '''prepares data for LSTM model, x=last nlags values, y=(nlags+1)'th value'''\n",
    "    data_x, data_y = [], []\n",
    "    for i in range(data.shape[0]):\n",
    "        for j in range(0, data.shape[1]-nlags):\n",
    "            data_x.append(data[i, j:j+nlags])\n",
    "            data_y.append(data[i, j+nlags])\n",
    "    data_x = np.array(data_x)\n",
    "    data_y = np.array(data_y).reshape(-1, 1)\n",
    "    return data_x, data_y"
   ]
  },
  {
   "cell_type": "code",
   "execution_count": 27,
   "metadata": {
    "ExecuteTime": {
     "end_time": "2018-11-26T18:30:43.703122Z",
     "start_time": "2018-11-26T18:30:43.680958Z"
    }
   },
   "outputs": [],
   "source": [
    "nlags = 10\n",
    "train_x, train_y = prepare_data(train, nlags)\n",
    "val_x, val_y = prepare_data(val, nlags)\n",
    "train_x = train_x.reshape(train_x.shape[0], 1, nlags)\n",
    "val_x = val_x.reshape(val_x.shape[0], 1, nlags)\n",
    "df_last_nlags_plus_one = df.loc[:, df.columns[-nlags-1:]]  # slice last nlags+1 days from df, will be used in prediction of yesterday's data\n",
    "dt_df_last_nlags = df_last_nlags_plus_one.diff(1, axis=1).dropna(axis=1)  #taking last 21 days, differencing and dropping the nan value\n",
    "dt_df_last_nlags = scaler.transform(dt_df_last_nlags)  # df is now a numpy array\n",
    "X = dt_df_last_nlags.reshape(dt_df_last_nlags.shape[0], 1, nlags)  # nlags=20\n",
    "load = np.load('25nov.npy')"
   ]
  },
  {
   "cell_type": "markdown",
   "metadata": {},
   "source": [
    "## Model training"
   ]
  },
  {
   "cell_type": "code",
   "execution_count": 124,
   "metadata": {
    "ExecuteTime": {
     "end_time": "2018-11-27T09:56:42.964635Z",
     "start_time": "2018-11-27T09:56:42.564166Z"
    }
   },
   "outputs": [],
   "source": [
    "model = Sequential()\n",
    "model.add(LSTM(1, batch_input_shape=(1, train_x.shape[1], train_x.shape[2]), stateful=True))\n",
    "# model.add(LSTM(1, stateful=True, return_sequences=True))\n",
    "# model.add(LSTM(1, stateful=True))\n",
    "# model.add(Dense(train_y.shape[1]))\n",
    "model.add(Dense(train_y.shape[1]))\n",
    "model.compile(loss='mean_squared_error', optimizer='sgd')\n"
   ]
  },
  {
   "cell_type": "code",
   "execution_count": 123,
   "metadata": {
    "ExecuteTime": {
     "end_time": "2018-11-27T09:52:33.946509Z",
     "start_time": "2018-11-27T09:39:56.165571Z"
    }
   },
   "outputs": [
    {
     "name": "stdout",
     "output_type": "stream",
     "text": [
      "Train on 11270 samples, validate on 2842 samples\n",
      "Epoch 1/20\n",
      "11270/11270 [==============================] - 41s 4ms/step - loss: 0.0372 - val_loss: 0.0233\n",
      "Epoch 2/20\n",
      "11270/11270 [==============================] - 39s 3ms/step - loss: 0.0343 - val_loss: 0.0225\n",
      "Epoch 3/20\n",
      "11270/11270 [==============================] - 39s 3ms/step - loss: 0.0297 - val_loss: 0.0216\n",
      "Epoch 4/20\n",
      "11270/11270 [==============================] - 38s 3ms/step - loss: 0.0270 - val_loss: 0.0209\n",
      "Epoch 5/20\n",
      "11270/11270 [==============================] - 37s 3ms/step - loss: 0.0260 - val_loss: 0.0205\n",
      "Epoch 6/20\n",
      "11270/11270 [==============================] - 37s 3ms/step - loss: 0.0254 - val_loss: 0.0202\n",
      "Epoch 7/20\n",
      "11270/11270 [==============================] - 37s 3ms/step - loss: 0.0251 - val_loss: 0.0200\n",
      "Epoch 8/20\n",
      "11270/11270 [==============================] - 37s 3ms/step - loss: 0.0248 - val_loss: 0.0199\n",
      "Epoch 9/20\n",
      "11270/11270 [==============================] - 37s 3ms/step - loss: 0.0247 - val_loss: 0.0199\n",
      "Epoch 10/20\n",
      "11270/11270 [==============================] - 37s 3ms/step - loss: 0.0245 - val_loss: 0.0198\n",
      "Epoch 11/20\n",
      "11270/11270 [==============================] - 36s 3ms/step - loss: 0.0244 - val_loss: 0.0197\n",
      "Epoch 12/20\n",
      "11270/11270 [==============================] - 37s 3ms/step - loss: 0.0244 - val_loss: 0.0197\n",
      "Epoch 13/20\n",
      "11270/11270 [==============================] - 37s 3ms/step - loss: 0.0243 - val_loss: 0.0197\n",
      "Epoch 14/20\n",
      "11270/11270 [==============================] - 37s 3ms/step - loss: 0.0242 - val_loss: 0.0196\n",
      "Epoch 15/20\n",
      "11270/11270 [==============================] - 38s 3ms/step - loss: 0.0241 - val_loss: 0.0196\n",
      "Epoch 16/20\n",
      "11270/11270 [==============================] - 39s 3ms/step - loss: 0.0241 - val_loss: 0.0196\n",
      "Epoch 17/20\n",
      "11270/11270 [==============================] - 39s 3ms/step - loss: 0.0240 - val_loss: 0.0196\n",
      "Epoch 18/20\n",
      "11270/11270 [==============================] - 39s 3ms/step - loss: 0.0240 - val_loss: 0.0196\n",
      "Epoch 19/20\n",
      "11270/11270 [==============================] - 39s 3ms/step - loss: 0.0239 - val_loss: 0.0196\n",
      "Epoch 20/20\n",
      "11270/11270 [==============================] - 39s 3ms/step - loss: 0.0239 - val_loss: 0.0196\n"
     ]
    }
   ],
   "source": [
    "history = model.fit(train_x, train_y, epochs=20, batch_size=batch_size, verbose=1, validation_data=(val_x, val_y), shuffle=False, callbacks=[es])\n"
   ]
  },
  {
   "cell_type": "code",
   "execution_count": 125,
   "metadata": {
    "ExecuteTime": {
     "end_time": "2018-11-27T10:03:30.190783Z",
     "start_time": "2018-11-27T09:56:54.375438Z"
    }
   },
   "outputs": [
    {
     "name": "stdout",
     "output_type": "stream",
     "text": [
      "Train on 11270 samples, validate on 2842 samples\n",
      "Epoch 1/1\n",
      "11270/11270 [==============================] - 40s 4ms/step - loss: 0.0387 - val_loss: 0.0228\n",
      "Train on 11270 samples, validate on 2842 samples\n",
      "Epoch 1/1\n",
      "11270/11270 [==============================] - 39s 3ms/step - loss: 0.0348 - val_loss: 0.0222\n",
      "Train on 11270 samples, validate on 2842 samples\n",
      "Epoch 1/1\n",
      "11270/11270 [==============================] - 38s 3ms/step - loss: 0.0330 - val_loss: 0.0217\n",
      "Train on 11270 samples, validate on 2842 samples\n",
      "Epoch 1/1\n",
      "11270/11270 [==============================] - 40s 4ms/step - loss: 0.0314 - val_loss: 0.0214\n",
      "Train on 11270 samples, validate on 2842 samples\n",
      "Epoch 1/1\n",
      "11270/11270 [==============================] - 40s 4ms/step - loss: 0.0302 - val_loss: 0.0212\n",
      "Train on 11270 samples, validate on 2842 samples\n",
      "Epoch 1/1\n",
      "11270/11270 [==============================] - 39s 3ms/step - loss: 0.0292 - val_loss: 0.0211\n",
      "Train on 11270 samples, validate on 2842 samples\n",
      "Epoch 1/1\n",
      "11270/11270 [==============================] - 40s 4ms/step - loss: 0.0286 - val_loss: 0.0210\n",
      "Train on 11270 samples, validate on 2842 samples\n",
      "Epoch 1/1\n",
      "11270/11270 [==============================] - 39s 3ms/step - loss: 0.0281 - val_loss: 0.0209\n",
      "Train on 11270 samples, validate on 2842 samples\n",
      "Epoch 1/1\n",
      "11270/11270 [==============================] - 39s 3ms/step - loss: 0.0277 - val_loss: 0.0209\n",
      "Train on 11270 samples, validate on 2842 samples\n",
      "Epoch 1/1\n",
      "11270/11270 [==============================] - 39s 3ms/step - loss: 0.0274 - val_loss: 0.0208\n"
     ]
    }
   ],
   "source": [
    "# fit network\n",
    "early_stopping_counter = 0\n",
    "last_loss = np.inf\n",
    "for i in range(10):\n",
    "    history = model.fit(train_x, train_y, epochs=1, batch_size=batch_size, verbose=1, validation_data=(val_x, val_y), shuffle=False)\n",
    "    model.reset_states()\n",
    "    val_loss = history.history['val_loss'][0]\n",
    "    if val_loss > last_loss:\n",
    "        early_stopping_counter += 1\n",
    "    else:    \n",
    "        early_stopping_counter = 0\n",
    "    last_loss = val_loss\n",
    "    if early_stopping_counter == 3:\n",
    "#         break\n",
    "        pass\n"
   ]
  },
  {
   "cell_type": "markdown",
   "metadata": {},
   "source": [
    "### NOTE: model needs to be trained for atleast 10 epochs to make decent predictions, use early stop callback afterwards"
   ]
  },
  {
   "cell_type": "code",
   "execution_count": 126,
   "metadata": {
    "ExecuteTime": {
     "end_time": "2018-11-27T10:03:35.426701Z",
     "start_time": "2018-11-27T10:03:30.195627Z"
    }
   },
   "outputs": [
    {
     "name": "stdout",
     "output_type": "stream",
     "text": [
      "2842/2842 [==============================] - 5s 2ms/step\n"
     ]
    }
   ],
   "source": [
    "val_y_pred = model.predict(val_x, batch_size=batch_size, verbose=1)\n",
    "inverted_val_y = scaler.inverse_transform(val_y)\n",
    "inverted_val_y_pred = scaler.inverse_transform(val_y_pred)\n",
    "Y = model.predict(X, batch_size=batch_size)  # predict for today's values\n",
    "inv_Y = scaler.inverse_transform(Y)  # invert to detrended values' scale\n",
    "rescaled_Y = [x+y for x, y in zip(inv_Y[:, 0], df.iloc[:, -1])]  # last day's values added to inv_Y to get it to original scale\n"
   ]
  },
  {
   "cell_type": "markdown",
   "metadata": {},
   "source": [
    "the whole process of inverting to orignal scale is same for val_y and val_y_pred (value addition only), so values are going to be close if they are now\n"
   ]
  },
  {
   "cell_type": "code",
   "execution_count": 127,
   "metadata": {
    "ExecuteTime": {
     "end_time": "2018-11-27T10:03:35.437163Z",
     "start_time": "2018-11-27T10:03:35.430692Z"
    }
   },
   "outputs": [
    {
     "name": "stdout",
     "output_type": "stream",
     "text": [
      "170.15684534737213 73.97455785821403\n"
     ]
    }
   ],
   "source": [
    "val_RMSE = np.sqrt(np.sum(np.square(np.array(inverted_val_y_pred) - np.array(inverted_val_y))) / len(inverted_val_y)) \n",
    "RMSE = np.sqrt(np.sum(np.square(np.array(rescaled_Y) - load)) / len(load)) \n",
    "print(val_RMSE, RMSE)"
   ]
  },
  {
   "cell_type": "code",
   "execution_count": 128,
   "metadata": {
    "ExecuteTime": {
     "end_time": "2018-11-27T10:03:36.032123Z",
     "start_time": "2018-11-27T10:03:35.440301Z"
    }
   },
   "outputs": [
    {
     "data": {
      "text/plain": [
       "<matplotlib.legend.Legend at 0x7fc02c260be0>"
      ]
     },
     "execution_count": 128,
     "metadata": {},
     "output_type": "execute_result"
    },
    {
     "data": {
      "image/png": "[encoded data removed]",
      "text/plain": [
       "<Figure size 1080x432 with 1 Axes>"
      ]
     },
     "metadata": {
      "needs_background": "light"
     },
     "output_type": "display_data"
    }
   ],
   "source": [
    "plt.plot(load)\n",
    "plt.plot(rescaled_Y)\n",
    "plt.legend(['load', 'pred'])"
   ]
  },
  {
   "cell_type": "code",
   "execution_count": null,
   "metadata": {
    "ExecuteTime": {
     "end_time": "2018-11-26T14:50:25.042244Z",
     "start_time": "2018-11-26T14:50:25.034708Z"
    }
   },
   "outputs": [],
   "source": []
  },
  {
   "cell_type": "markdown",
   "metadata": {},
   "source": [
    "#### References:\n",
    "\n",
    "https://machinelearningmastery.com/time-series-forecasting-long-short-term-memory-network-python/\n",
    "https://machinelearningmastery.com/multi-step-time-series-forecasting-long-short-term-memory-networks-python/"
   ]
  },
  {
   "cell_type": "code",
   "execution_count": null,
   "metadata": {},
   "outputs": [],
   "source": []
  },
  {
   "cell_type": "code",
   "execution_count": null,
   "metadata": {},
   "outputs": [],
   "source": []
  },
  {
   "cell_type": "code",
   "execution_count": null,
   "metadata": {},
   "outputs": [],
   "source": []
  },
  {
   "cell_type": "code",
   "execution_count": null,
   "metadata": {},
   "outputs": [],
   "source": []
  },
  {
   "cell_type": "code",
   "execution_count": null,
   "metadata": {},
   "outputs": [],
   "source": []
  },
  {
   "cell_type": "code",
   "execution_count": null,
   "metadata": {},
   "outputs": [],
   "source": []
  },
  {
   "cell_type": "code",
   "execution_count": null,
   "metadata": {},
   "outputs": [],
   "source": []
  },
  {
   "cell_type": "code",
   "execution_count": 40,
   "metadata": {
    "ExecuteTime": {
     "end_time": "2018-11-26T18:38:21.891195Z",
     "start_time": "2018-11-26T18:38:18.452738Z"
    }
   },
   "outputs": [
    {
     "name": "stdout",
     "output_type": "stream",
     "text": [
      "[NbConvertApp] Converting notebook LSTM-v2.ipynb to script\n",
      "[NbConvertApp] Writing 9421 bytes to LSTM-v2.py\n"
     ]
    }
   ],
   "source": [
    "# !jupyter nbconvert --to script LSTM-v2.ipynb"
   ]
  },
  {
   "cell_type": "code",
   "execution_count": null,
   "metadata": {},
   "outputs": [],
   "source": []
  },
  {
   "cell_type": "code",
   "execution_count": null,
   "metadata": {},
   "outputs": [],
   "source": []
  },
  {
   "cell_type": "code",
   "execution_count": null,
   "metadata": {},
   "outputs": [],
   "source": []
  },
  {
   "cell_type": "code",
   "execution_count": 41,
   "metadata": {
    "ExecuteTime": {
     "end_time": "2018-11-26T18:38:21.901581Z",
     "start_time": "2018-11-26T18:38:21.895444Z"
    }
   },
   "outputs": [],
   "source": [
    "# ## get today's load\n",
    "\n",
    "# def get_load_data(date):\n",
    "#     load=[]\n",
    "#     url = 'http://www.delhisldc.org/Loaddata.aspx?mode='\n",
    "#     print('Scraping ' + date, end=' ')\n",
    "#     resp = requests.get(url + date) # send a get request to the url, get response\n",
    "#     soup = BeautifulSoup(resp.text, 'lxml') # Yummy HTML soup\n",
    "#     table = soup.find('table', {'id':'ContentPlaceHolder3_DGGridAv'}) # get the table from html\n",
    "#     trs = table.findAll('tr') # extract all rows of the table\n",
    "#     if len(trs[1:])==288: # no need to create csv file, if there's no data\n",
    "#         with open('monthdata.csv', 'a') as f:  #'a' makes sure the values are appended at the end of the already existing file\n",
    "            \n",
    "#             for tr in trs[1:]:\n",
    "#                 time, delhi = tr.findChildren('font')[:2]\n",
    "#                 load.append(delhi.text)\n",
    "#     if len(trs[1:]) != 288:\n",
    "#         print('Some of the load values are missing..')\n",
    "#     else:\n",
    "#         print('Done')\n",
    "#     return load\n",
    "\n",
    "# yesterday = datetime.today() - timedelta(1)\n",
    "# yesterday = yesterday.strftime('%d/%m/%Y')\n",
    "# load = get_load_data(yesterday)\n",
    "# load = [float(x) for x in load]\n",
    "# np.save('25nov.npy', load)"
   ]
  }
 ],
 "metadata": {
  "kernelspec": {
   "display_name": "TF",
   "language": "python",
   "name": "tf"
  },
  "language_info": {
   "codemirror_mode": {
    "name": "ipython",
    "version": 3
   },
   "file_extension": ".py",
   "mimetype": "text/x-python",
   "name": "python",
   "nbconvert_exporter": "python",
   "pygments_lexer": "ipython3",
   "version": "3.5.6"
  }
 },
 "nbformat": 4,
 "nbformat_minor": 2
}
