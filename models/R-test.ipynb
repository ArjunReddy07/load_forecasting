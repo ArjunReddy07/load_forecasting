{
 "cells": [
  {
   "cell_type": "code",
   "execution_count": 1,
   "metadata": {
    "ExecuteTime": {
     "end_time": "2018-11-01T13:54:11.590096Z",
     "start_time": "2018-11-01T13:54:11.488Z"
    }
   },
   "outputs": [
    {
     "name": "stdout",
     "output_type": "stream",
     "text": [
      "[1] \"lol\"\n"
     ]
    }
   ],
   "source": [
    "print('lol')"
   ]
  },
  {
   "cell_type": "code",
   "execution_count": 9,
   "metadata": {
    "ExecuteTime": {
     "end_time": "2018-11-01T13:11:06.871131Z",
     "start_time": "2018-11-01T13:10:43.665Z"
    },
    "scrolled": true
   },
   "outputs": [
    {
     "name": "stderr",
     "output_type": "stream",
     "text": [
      "also installing the dependencies ‘uroot’, ‘forecast’, ‘fma’, ‘expsmooth’\n",
      "\n",
      "Warning message in install.packages(\"fpp\", dependencies = TRUE):\n",
      "“installation of package ‘uroot’ had non-zero exit status”Warning message in install.packages(\"fpp\", dependencies = TRUE):\n",
      "“installation of package ‘forecast’ had non-zero exit status”Warning message in install.packages(\"fpp\", dependencies = TRUE):\n",
      "“installation of package ‘fma’ had non-zero exit status”Warning message in install.packages(\"fpp\", dependencies = TRUE):\n",
      "“installation of package ‘expsmooth’ had non-zero exit status”Warning message in install.packages(\"fpp\", dependencies = TRUE):\n",
      "“installation of package ‘fpp’ had non-zero exit status”Updating HTML index of packages in '.Library'\n",
      "Making 'packages.html' ... done\n"
     ]
    }
   ],
   "source": [
    "install.packages(\"fpp\", dependencies=TRUE)"
   ]
  },
  {
   "cell_type": "code",
   "execution_count": null,
   "metadata": {},
   "outputs": [],
   "source": []
  },
  {
   "cell_type": "code",
   "execution_count": 1,
   "metadata": {
    "ExecuteTime": {
     "end_time": "2018-11-01T14:23:12.241558Z",
     "start_time": "2018-11-01T14:22:12.596Z"
    }
   },
   "outputs": [
    {
     "name": "stderr",
     "output_type": "stream",
     "text": [
      "Warning message in install.packages(\"uroot\"):\n",
      "“installation of package ‘uroot’ had non-zero exit status”Updating HTML index of packages in '.Library'\n",
      "Making 'packages.html' ... done\n"
     ]
    }
   ],
   "source": [
    "install.packages('uroot')"
   ]
  },
  {
   "cell_type": "code",
   "execution_count": 2,
   "metadata": {
    "ExecuteTime": {
     "end_time": "2018-11-01T14:23:42.239886Z",
     "start_time": "2018-11-01T14:23:42.053Z"
    }
   },
   "outputs": [
    {
     "data": {
      "text/html": [
       "'/home/eee/ug/15084015/miniconda3/lib/R'"
      ],
      "text/latex": [
       "'/home/eee/ug/15084015/miniconda3/lib/R'"
      ],
      "text/markdown": [
       "'/home/eee/ug/15084015/miniconda3/lib/R'"
      ],
      "text/plain": [
       "[1] \"/home/eee/ug/15084015/miniconda3/lib/R\""
      ]
     },
     "metadata": {},
     "output_type": "display_data"
    }
   ],
   "source": [
    " file.path(R.home())"
   ]
  },
  {
   "cell_type": "code",
   "execution_count": 10,
   "metadata": {
    "ExecuteTime": {
     "end_time": "2018-11-01T13:45:05.949651Z",
     "start_time": "2018-11-01T13:45:05.507Z"
    }
   },
   "outputs": [
    {
     "data": {
      "text/html": [
       "'/home/eee/ug/15084015/miniconda3/lib/R/bin/R'"
      ],
      "text/latex": [
       "'/home/eee/ug/15084015/miniconda3/lib/R/bin/R'"
      ],
      "text/markdown": [
       "'/home/eee/ug/15084015/miniconda3/lib/R/bin/R'"
      ],
      "text/plain": [
       "[1] \"/home/eee/ug/15084015/miniconda3/lib/R/bin/R\""
      ]
     },
     "metadata": {},
     "output_type": "display_data"
    }
   ],
   "source": [
    "file.path(R.home(\"bin\"), \"R\")"
   ]
  },
  {
   "cell_type": "code",
   "execution_count": 4,
   "metadata": {
    "ExecuteTime": {
     "end_time": "2018-11-01T14:03:19.154597Z",
     "start_time": "2018-11-01T14:03:19.091Z"
    }
   },
   "outputs": [
    {
     "data": {
      "text/html": [
       "'/home/eee/ug/15084015/miniconda3/lib/R/library'"
      ],
      "text/latex": [
       "'/home/eee/ug/15084015/miniconda3/lib/R/library'"
      ],
      "text/markdown": [
       "'/home/eee/ug/15084015/miniconda3/lib/R/library'"
      ],
      "text/plain": [
       "[1] \"/home/eee/ug/15084015/miniconda3/lib/R/library\""
      ]
     },
     "metadata": {},
     "output_type": "display_data"
    }
   ],
   "source": [
    ".libPaths()"
   ]
  },
  {
   "cell_type": "code",
   "execution_count": 6,
   "metadata": {
    "ExecuteTime": {
     "end_time": "2018-11-01T14:04:50.944862Z",
     "start_time": "2018-11-01T14:04:50.815Z"
    }
   },
   "outputs": [
    {
     "name": "stderr",
     "output_type": "stream",
     "text": [
      "Loading required package: forecast\n",
      "Error: package or namespace load failed for ‘forecast’:\n",
      " package ‘forecast’ was installed by an R version with different internals; it needs to be reinstalled for use with this R version\n"
     ]
    },
    {
     "ename": "ERROR",
     "evalue": "Error: package ‘forecast’ could not be loaded\n",
     "output_type": "error",
     "traceback": [
      "Error: package ‘forecast’ could not be loaded\nTraceback:\n",
      "1. library(fpp)",
      "2. .getRequiredPackages2(pkgInfo, quietly = quietly)",
      "3. stop(gettextf(\"package %s could not be loaded\", sQuote(pkg)), \n .     call. = FALSE, domain = NA)"
     ]
    }
   ],
   "source": [
    "library(fpp)#, lib.loc = \"/home/eee/ug/15084015/R/x86_64-redhat-linux-gnu-library\")"
   ]
  }
 ],
 "metadata": {
  "kernelspec": {
   "display_name": "R",
   "language": "R",
   "name": "ir"
  },
  "language_info": {
   "codemirror_mode": "r",
   "file_extension": ".r",
   "mimetype": "text/x-r-source",
   "name": "R",
   "pygments_lexer": "r",
   "version": "3.5.1"
  }
 },
 "nbformat": 4,
 "nbformat_minor": 2
}
